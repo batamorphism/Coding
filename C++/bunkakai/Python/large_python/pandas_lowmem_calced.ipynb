{
 "cells": [
  {
   "cell_type": "code",
   "execution_count": 3,
   "metadata": {},
   "outputs": [
    {
     "name": "stdout",
     "output_type": "stream",
     "text": [
      "755.3025364875793\n"
     ]
    }
   ],
   "source": [
    "import time\n",
    "import csv\n",
    "import pandas as pd\n",
    "\n",
    "pickle_list = []\n",
    "start = time.time()\n",
    "\n",
    "def write_pickle(data, name):\n",
    "    df = pd.DataFrame(data)\n",
    "    df.to_pickle(name)\n",
    "    return name\n",
    "\n",
    "# create pickle\n",
    "with open(\"dataset_large.csv\", newline=\"\") as f:\n",
    "    reader = csv.reader(f,quotechar=\"'\", quoting=csv.QUOTE_NONNUMERIC)\n",
    "    data = []\n",
    "    cnt = 0\n",
    "    for i, row in enumerate(reader, 1):\n",
    "        row = list(map(float, row))\n",
    "        data.append(row)\n",
    "        if i % 1200 == 0:\n",
    "            name = 'temp\\\\' + str(cnt) + '.pkl'\n",
    "            write_pickle(data, name)\n",
    "            pickle_list.append(name)\n",
    "            data = []\n",
    "            cnt += 1\n",
    "    name = 'temp\\\\' + str(cnt) + '.pkl'\n",
    "    write_pickle(data, name)\n",
    "    pickle_list.append(name)\n",
    "    del data\n",
    "    del cnt\n",
    "\n",
    "process_time = time.time() - start\n",
    "\n",
    "print(process_time)"
   ]
  },
  {
   "cell_type": "code",
   "execution_count": 10,
   "metadata": {},
   "outputs": [
    {
     "name": "stdout",
     "output_type": "stream",
     "text": [
      "2.200000000000014\n",
      "161.02912616729736\n"
     ]
    }
   ],
   "source": [
    "ans = 0\n",
    "start = time.time()\n",
    "\n",
    "def calc(df):\n",
    "    col3 = df.iloc[:,2]\n",
    "    col3_sum = col3.sum()\n",
    "    return col3_sum\n",
    "\n",
    "# read pickle\n",
    "for pickle_name in pickle_list:\n",
    "    df = pd.read_pickle(pickle_name)\n",
    "    if not df.empty:\n",
    "        ans += calc(df)\n",
    "\n",
    "process_time = time.time() - start\n",
    "\n",
    "print(ans)\n",
    "print(process_time)"
   ]
  }
 ],
 "metadata": {
  "interpreter": {
   "hash": "f2a1534ca7ab28c7e826feaf6171392fbba122c8b12f3f6922ef1415ce719538"
  },
  "kernelspec": {
   "display_name": "Python 3.9.7 64-bit",
   "language": "python",
   "name": "python3"
  },
  "language_info": {
   "codemirror_mode": {
    "name": "ipython",
    "version": 3
   },
   "file_extension": ".py",
   "mimetype": "text/x-python",
   "name": "python",
   "nbconvert_exporter": "python",
   "pygments_lexer": "ipython3",
   "version": "3.9.7"
  },
  "orig_nbformat": 4
 },
 "nbformat": 4,
 "nbformat_minor": 2
}
