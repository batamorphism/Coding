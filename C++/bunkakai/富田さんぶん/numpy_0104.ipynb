{
 "cells": [
  {
   "cell_type": "code",
   "execution_count": 1,
   "metadata": {},
   "outputs": [
    {
     "name": "stdout",
     "output_type": "stream",
     "text": [
      "[[ 0.909]\n",
      " [ 0.551]\n",
      " [-0.739]\n",
      " ...\n",
      " [ 0.996]\n",
      " [ 0.066]\n",
      " [-0.976]]\n",
      "0.33999999999998853\n",
      "0.17148900032043457\n"
     ]
    }
   ],
   "source": [
    "import time\n",
    "import numpy as np\n",
    "\n",
    "start = time.time()\n",
    "\n",
    "sample = np.loadtxt('dataset_small.csv', delimiter=',')\n",
    "col3 = sample[:,2:3]\n",
    "col3_sum = np.sum(col3)\n",
    "\n",
    "process_time = time.time() - start\n",
    "\n",
    "print(col3_sum)\n",
    "print(process_time)"
   ]
  },
  {
   "cell_type": "code",
   "execution_count": null,
   "metadata": {},
   "outputs": [],
   "source": []
  }
 ],
 "metadata": {
  "kernelspec": {
   "display_name": "Python 3",
   "language": "python",
   "name": "python3"
  },
  "language_info": {
   "codemirror_mode": {
    "name": "ipython",
    "version": 3
   },
   "file_extension": ".py",
   "mimetype": "text/x-python",
   "name": "python",
   "nbconvert_exporter": "python",
   "pygments_lexer": "ipython3",
   "version": "3.7.3"
  }
 },
 "nbformat": 4,
 "nbformat_minor": 2
}
