{
 "cells": [
  {
   "cell_type": "code",
   "execution_count": 1,
   "metadata": {},
   "outputs": [
    {
     "name": "stdout",
     "output_type": "stream",
     "text": [
      "0.339999999999991\n",
      "0.09873652458190918\n"
     ]
    }
   ],
   "source": [
    "import time\n",
    "import csv\n",
    "\n",
    "start = time.time()\n",
    "\n",
    "sum_val = 0  # 合算を取る手段はいくつかあるが、メモリ節約のために変数で持たせることとする\n",
    "with open(\"dataset_small.csv\", newline=\"\") as f:\n",
    "    reader = csv.reader(f,quotechar=\"'\", quoting=csv.QUOTE_NONNUMERIC)\n",
    "    # リスト内包表記はiterableをlistとして先読みしてしまうので使わない\n",
    "    # sample = [row for row in reader]\n",
    "    for row in reader:\n",
    "        sum_val += row[2]\n",
    "\n",
    "\n",
    "\"\"\"\n",
    "col3= [row[2] for row in sample]\n",
    "col3_sum = sum(col3)\n",
    "\"\"\"\n",
    "\n",
    "\n",
    "# print(col3_sum)\n",
    "print(sum_val)\n",
    "process_time = time.time() - start\n",
    "print(process_time)"
   ]
  },
  {
   "cell_type": "code",
   "execution_count": null,
   "metadata": {},
   "outputs": [],
   "source": []
  }
 ],
 "metadata": {
  "kernelspec": {
   "display_name": "Python 3",
   "language": "python",
   "name": "python3"
  },
  "language_info": {
   "codemirror_mode": {
    "name": "ipython",
    "version": 3
   },
   "file_extension": ".py",
   "mimetype": "text/x-python",
   "name": "python",
   "nbconvert_exporter": "python",
   "pygments_lexer": "ipython3",
   "version": "3.7.3"
  }
 },
 "nbformat": 4,
 "nbformat_minor": 2
}
